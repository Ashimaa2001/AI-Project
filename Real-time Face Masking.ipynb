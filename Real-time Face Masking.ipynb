{
 "cells": [
  {
   "cell_type": "code",
   "execution_count": 1,
   "metadata": {},
   "outputs": [],
   "source": [
    "import time\n",
    "import cv2\n",
    "import numpy as np\n",
    "from PIL import Image"
   ]
  },
  {
   "cell_type": "code",
   "execution_count": 2,
   "metadata": {},
   "outputs": [],
   "source": [
    "new = Image.new(\"RGBA\", (1700,500))\n",
    "\n",
    "objects = np.array(['C:\\\\Users\\\\ashim\\\\Downloads\\\\excited.png', 'C:\\\\Users\\\\ashim\\\\Downloads\\\\emoji3.png','C:\\\\Users\\\\ashim\\\\Downloads\\\\Cool.png'])\n",
    "face_classifier = cv2.CascadeClassifier(cv2.data.haarcascades + 'haarcascade_frontalface_default.xml')  #algorithm to detect faces\n"
   ]
  },
  {
   "cell_type": "code",
   "execution_count": 3,
   "metadata": {},
   "outputs": [],
   "source": [
    "def balloons(image):\n",
    "    \"\"\"_summary_\n",
    "\n",
    "    Args:\n",
    "        image (_type_): frame inputed by Webcam feed\n",
    "\n",
    "    Returns:\n",
    "        _type_: _description_\n",
    "    \"\"\"\n",
    "    gray = cv2.cvtColor(image, cv2.COLOR_BGR2GRAY)  #convert to gray scale\n",
    "\n",
    "    faces = face_classifier.detectMultiScale(gray, 2.1)  #detect faces\n",
    "\n",
    "    background = Image.fromarray(image)\n",
    "\n",
    "    for (x, y, w, h) in faces:\n",
    "        resized_mask = mask.resize((w, h), Image.LANCZOS)\n",
    "        offset = (x, y-5)\n",
    "        background.paste(resized_mask, offset, mask=resized_mask)\n",
    "\n",
    "    return np.asarray(background)\n"
   ]
  },
  {
   "cell_type": "code",
   "execution_count": 4,
   "metadata": {},
   "outputs": [],
   "source": [
    "def filter(count):\n",
    "    timeout = 20\n",
    "    timeout_start = time.time()\n",
    "    test=0\n",
    "\n",
    "    while time.time() < timeout_start + timeout:   \n",
    "        ret, frame = vid.read()  #reading video\n",
    "        frame = cv2.flip(frame, 1)  #flip a 2D array\n",
    "        cv2.imshow(\"Augmented Video\",balloons(frame))   #prints the resulting frame\n",
    "\n",
    "        if cv2.waitKey(1) & 0xFF == ord('q'):  #if q is pressed, the program comes to a halt by breaking out of the loop\n",
    "            cv2.imwrite('C:\\\\Users\\\\ashim\\\\Downloads\\\\AugmentedImage'+str(count)+'.jpg', balloons(frame))\n",
    "            img=Image.open('C:\\\\Users\\\\ashim\\\\Downloads\\\\AugmentedImage'+str(count)+'.jpg')\n",
    "            img = img.resize((500,500))\n",
    "            new.paste(img, ((count-1)*520,0))\n",
    "            break\n",
    "\n",
    "        if test == 5:\n",
    "            break\n",
    "        test=test-1\n"
   ]
  },
  {
   "cell_type": "code",
   "execution_count": 5,
   "metadata": {},
   "outputs": [
    {
     "name": "stderr",
     "output_type": "stream",
     "text": [
      "C:\\Users\\ashim\\AppData\\Local\\Temp\\ipykernel_1248\\3659256762.py:17: DeprecationWarning: LANCZOS is deprecated and will be removed in Pillow 10 (2023-07-01). Use Resampling.LANCZOS instead.\n",
      "  resized_mask = mask.resize((w, h), Image.LANCZOS)\n"
     ]
    }
   ],
   "source": [
    "vid = cv2.VideoCapture(0)\n",
    "\n",
    "for i in range(3):\n",
    "    mask = Image.open(objects[i]) \n",
    "    filter(i+1)\n",
    "\n",
    "vid.release()\n",
    "cv2.destroyAllWindows()\n",
    "new.show()"
   ]
  },
  {
   "cell_type": "code",
   "execution_count": null,
   "metadata": {},
   "outputs": [],
   "source": []
  }
 ],
 "metadata": {
  "kernelspec": {
   "display_name": "Python 3.9.13 64-bit (microsoft store)",
   "language": "python",
   "name": "python3"
  },
  "language_info": {
   "codemirror_mode": {
    "name": "ipython",
    "version": 3
   },
   "file_extension": ".py",
   "mimetype": "text/x-python",
   "name": "python",
   "nbconvert_exporter": "python",
   "pygments_lexer": "ipython3",
   "version": "3.9.13"
  },
  "orig_nbformat": 4,
  "vscode": {
   "interpreter": {
    "hash": "c08fcd23c77bfb5ee56d1a6f1427620e609d2a5b71021227ea509b0443ab141b"
   }
  }
 },
 "nbformat": 4,
 "nbformat_minor": 2
}
